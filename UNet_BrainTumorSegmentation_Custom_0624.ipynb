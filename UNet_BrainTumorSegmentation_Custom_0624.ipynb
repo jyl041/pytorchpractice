{
 "cells": [
  {
   "cell_type": "markdown",
   "id": "de22de88",
   "metadata": {},
   "source": [
    "# Kaggle에 있는 brain-tumor 데이터셋 기반 U-Net Segmentation 공부코드 입니다."
   ]
  },
  {
   "cell_type": "code",
   "execution_count": 1,
   "id": "f2af1a60",
   "metadata": {},
   "outputs": [],
   "source": [
    "import random\n",
    "import math\n",
    "import time\n",
    "import pandas as pd\n",
    "import numpy as np\n",
    "\n",
    "import torch\n",
    "import torch.utils.data as data\n",
    "import torch.nn as nn\n",
    "import torch.nn.init as init\n",
    "import torch.nn.functional as F\n",
    "import torch.optim as optim\n",
    "\n",
    "# Setup seeds\n",
    "torch.manual_seed(1237)\n",
    "np.random.seed(1237)\n",
    "random.seed(1237)\n",
    "\n",
    "import os\n",
    "import glob\n",
    "import random\n",
    "import cv2\n",
    "from PIL import Image\n",
    "import numpy as np\n",
    "import pandas as pd\n",
    "import matplotlib.pyplot as plt\n",
    "from torch.utils.data import Dataset, DataLoader\n",
    "import torch\n",
    "import torchvision\n",
    "import torch.nn as nn\n",
    "import torch.nn.functional as F\n",
    "import torch.utils.data as data\n",
    "from torch.utils.data import DataLoader\n",
    "from mpl_toolkits.axes_grid1 import ImageGrid\n",
    "from torchvision.utils import make_grid\n",
    "import torchvision.transforms as tt\n",
    "import albumentations as A\n",
    "from sklearn.model_selection import train_test_split\n",
    "from tqdm import tqdm\n",
    "from torchvision import transforms as T\n",
    "\n",
    "import numpy as np \n",
    "import pandas as pd\n",
    "import matplotlib.pyplot as plt\n",
    "\n",
    "from sklearn.model_selection import train_test_split\n",
    "\n",
    "import torch\n",
    "import torch.nn as nn\n",
    "from torch.utils.data import Dataset, DataLoader\n",
    "from torchvision import transforms as T\n",
    "import torchvision\n",
    "import torch.nn.functional as F\n",
    "from torch.autograd import Variable\n",
    "\n",
    "from PIL import Image\n",
    "import cv2\n",
    "import albumentations as A\n",
    "\n",
    "import time\n",
    "import os\n",
    "from tqdm.notebook import tqdm\n",
    "\n",
    "from torchsummary import summary"
   ]
  },
  {
   "cell_type": "code",
   "execution_count": 2,
   "id": "f9a8c302",
   "metadata": {},
   "outputs": [
    {
     "name": "stdout",
     "output_type": "stream",
     "text": [
      "mask files:  3929\n",
      "image files:  3929\n"
     ]
    }
   ],
   "source": [
    "ROOT_PATH = \"C:/Users/ok/Desktop/archive/lgg-mri-segmentation/kaggle_3m/\"\n",
    "\n",
    "mask_files = glob.glob(ROOT_PATH + '*/*_mask*')\n",
    "print(\"mask files: \", len(mask_files))\n",
    "\n",
    "image_files = [file.replace('_mask', '') for file in mask_files]\n",
    "print(\"image files: \", len(image_files))\n",
    "\n",
    "def diagnosis(mask_path):\n",
    "    return 1 if np.max(cv2.imread(mask_path)) > 0 else 0\n",
    "\n",
    "files_df = pd.DataFrame({\"image_path\": image_files,\n",
    "                  \"mask_path\": mask_files,\n",
    "                  \"diagnosis\": [diagnosis(x) for x in mask_files]})"
   ]
  },
  {
   "cell_type": "code",
   "execution_count": 3,
   "id": "387e0ca9",
   "metadata": {},
   "outputs": [],
   "source": [
    "class BrainTumorDataset(Dataset):\n",
    "    \n",
    "    def __init__(self, df, transform=None):\n",
    "        self.df = df\n",
    "        self.transforms = transform\n",
    "    \n",
    "    def __len__(self):\n",
    "        return len(self.df['image_path'].values.tolist())\n",
    "        \n",
    "    def __getitem__(self, index):\n",
    "        image_ = self.df['image_path']\n",
    "        image_ = image_.values\n",
    "        image_ = image_.tolist()\n",
    "        image_ = image_[index]\n",
    "        image_ = Image.open(image_)\n",
    "        img_arr = np.array(image_)\n",
    "        \n",
    "        \n",
    "        mask_ = self.df['mask_path']\n",
    "        mask_ = mask_.values\n",
    "        mask_ = mask_.tolist()\n",
    "        mask_ = mask_[index]\n",
    "        mask_ = Image.open(mask_)\n",
    "        mask_ = np.array(mask_)\n",
    "        \n",
    "        mask_ = mask_ / 255.0\n",
    "        \n",
    "        msk_ = torch.Tensor(mask_).long()\n",
    "        \n",
    "        if self.transforms is not None:\n",
    "            img_ = self.transforms(img_arr)\n",
    "        \n",
    "        return img_, msk_"
   ]
  },
  {
   "cell_type": "code",
   "execution_count": 4,
   "id": "0200a7ca",
   "metadata": {},
   "outputs": [],
   "source": [
    "t1 = tt.Compose([tt.ToTensor(),\n",
    "                tt.Normalize(mean = (0.485, 0.56, 0.406), std = (0.229, 0.224, 0.225))\n",
    "        ])"
   ]
  },
  {
   "cell_type": "code",
   "execution_count": 5,
   "id": "84de0172",
   "metadata": {},
   "outputs": [],
   "source": [
    "dataset_ = BrainTumorDataset(files_df, transform=t1)"
   ]
  },
  {
   "cell_type": "code",
   "execution_count": 6,
   "id": "81902235",
   "metadata": {},
   "outputs": [],
   "source": [
    "train_loader = DataLoader(dataset_, batch_size=4, shuffle=True)"
   ]
  },
  {
   "cell_type": "code",
   "execution_count": 7,
   "id": "7ee18d88",
   "metadata": {},
   "outputs": [],
   "source": [
    "val_loader = DataLoader(dataset_, batch_size=4, shuffle=True)"
   ]
  },
  {
   "cell_type": "code",
   "execution_count": 8,
   "id": "74c9cec9",
   "metadata": {},
   "outputs": [],
   "source": [
    "class UNet(nn.Module):\n",
    "    \n",
    "    def __init__(self, num_classes):\n",
    "        super(UNet, self).__init__()\n",
    "        self.num_classes = num_classes\n",
    "        self.contracting_11 = self.conv_block(in_channels=3, out_channels=64)\n",
    "        self.contracting_12 = nn.MaxPool2d(kernel_size=2, stride=2)\n",
    "        self.contracting_21 = self.conv_block(in_channels=64, out_channels=128)\n",
    "        self.contracting_22 = nn.MaxPool2d(kernel_size=2, stride=2)\n",
    "        self.contracting_31 = self.conv_block(in_channels=128, out_channels=256)\n",
    "        self.contracting_32 = nn.MaxPool2d(kernel_size=2, stride=2)\n",
    "        self.contracting_41 = self.conv_block(in_channels=256, out_channels=512)\n",
    "        self.contracting_42 = nn.MaxPool2d(kernel_size=2, stride=2)\n",
    "        self.middle = self.conv_block(in_channels=512, out_channels=1024)\n",
    "        self.expansive_11 = nn.ConvTranspose2d(in_channels=1024, out_channels=512, kernel_size=3, stride=2, padding=1, output_padding=1)\n",
    "        self.expansive_12 = self.conv_block(in_channels=1024, out_channels=512)\n",
    "        self.expansive_21 = nn.ConvTranspose2d(in_channels=512, out_channels=256, kernel_size=3, stride=2, padding=1, output_padding=1)\n",
    "        self.expansive_22 = self.conv_block(in_channels=512, out_channels=256)\n",
    "        self.expansive_31 = nn.ConvTranspose2d(in_channels=256, out_channels=128, kernel_size=3, stride=2, padding=1, output_padding=1)\n",
    "        self.expansive_32 = self.conv_block(in_channels=256, out_channels=128)\n",
    "        self.expansive_41 = nn.ConvTranspose2d(in_channels=128, out_channels=64, kernel_size=3, stride=2, padding=1, output_padding=1)\n",
    "        self.expansive_42 = self.conv_block(in_channels=128, out_channels=64)\n",
    "        self.output = nn.Conv2d(in_channels=64, out_channels=num_classes, kernel_size=3, stride=1, padding=1)\n",
    "        \n",
    "    def conv_block(self, in_channels, out_channels):\n",
    "        block = nn.Sequential(nn.Conv2d(in_channels=in_channels, out_channels=out_channels, kernel_size=3, stride=1, padding=1),\n",
    "                                    nn.ReLU(),\n",
    "                                    nn.BatchNorm2d(num_features=out_channels),\n",
    "                                    nn.Conv2d(in_channels=out_channels, out_channels=out_channels, kernel_size=3, stride=1, padding=1),\n",
    "                                    nn.ReLU(),\n",
    "                                    nn.BatchNorm2d(num_features=out_channels))\n",
    "        return block\n",
    "    \n",
    "    def forward(self, X):\n",
    "        contracting_11_out = self.contracting_11(X) # [-1, 64, 256, 256]\n",
    "        contracting_12_out = self.contracting_12(contracting_11_out) # [-1, 64, 128, 128]\n",
    "        contracting_21_out = self.contracting_21(contracting_12_out) # [-1, 128, 128, 128]\n",
    "        contracting_22_out = self.contracting_22(contracting_21_out) # [-1, 128, 64, 64]\n",
    "        contracting_31_out = self.contracting_31(contracting_22_out) # [-1, 256, 64, 64]\n",
    "        contracting_32_out = self.contracting_32(contracting_31_out) # [-1, 256, 32, 32]\n",
    "        contracting_41_out = self.contracting_41(contracting_32_out) # [-1, 512, 32, 32]\n",
    "        contracting_42_out = self.contracting_42(contracting_41_out) # [-1, 512, 16, 16]\n",
    "        middle_out = self.middle(contracting_42_out) # [-1, 1024, 16, 16]\n",
    "        expansive_11_out = self.expansive_11(middle_out) # [-1, 512, 32, 32]\n",
    "        expansive_12_out = self.expansive_12(torch.cat((expansive_11_out, contracting_41_out), dim=1)) # [-1, 1024, 32, 32] -> [-1, 512, 32, 32]\n",
    "        expansive_21_out = self.expansive_21(expansive_12_out) # [-1, 256, 64, 64]\n",
    "        expansive_22_out = self.expansive_22(torch.cat((expansive_21_out, contracting_31_out), dim=1)) # [-1, 512, 64, 64] -> [-1, 256, 64, 64]\n",
    "        expansive_31_out = self.expansive_31(expansive_22_out) # [-1, 128, 128, 128]\n",
    "        expansive_32_out = self.expansive_32(torch.cat((expansive_31_out, contracting_21_out), dim=1)) # [-1, 256, 128, 128] -> [-1, 128, 128, 128]\n",
    "        expansive_41_out = self.expansive_41(expansive_32_out) # [-1, 64, 256, 256]\n",
    "        expansive_42_out = self.expansive_42(torch.cat((expansive_41_out, contracting_11_out), dim=1)) # [-1, 128, 256, 256] -> [-1, 64, 256, 256]\n",
    "        output_out = self.output(expansive_42_out) # [-1, num_classes, 256, 256]\n",
    "        return output_out"
   ]
  },
  {
   "cell_type": "code",
   "execution_count": 9,
   "id": "c662a99f",
   "metadata": {},
   "outputs": [],
   "source": [
    "num_classes = 2"
   ]
  },
  {
   "cell_type": "code",
   "execution_count": 10,
   "id": "4a8e095e",
   "metadata": {},
   "outputs": [],
   "source": [
    "epochs = 10\n",
    "lr = 0.01"
   ]
  },
  {
   "cell_type": "code",
   "execution_count": 11,
   "id": "335564b2",
   "metadata": {},
   "outputs": [
    {
     "name": "stdout",
     "output_type": "stream",
     "text": [
      "Type of device:  cuda\n"
     ]
    }
   ],
   "source": [
    "device = torch.device(\"cuda\" if torch.cuda.is_available() else 'cpu')\n",
    "print(\"Type of device: \", device)"
   ]
  },
  {
   "cell_type": "code",
   "execution_count": 12,
   "id": "9bb8c76e",
   "metadata": {},
   "outputs": [],
   "source": [
    "model = UNet(num_classes = num_classes).to(device)"
   ]
  },
  {
   "cell_type": "code",
   "execution_count": 18,
   "id": "443d6252",
   "metadata": {},
   "outputs": [],
   "source": [
    "def pixel_accuracy(output, mask):\n",
    "    with torch.no_grad():\n",
    "        output = torch.argmax(F.softmax(output, dim=1), dim=1)\n",
    "        correct = torch.eq(output, mask).int()\n",
    "        accuracy = float(correct.sum()) / float(correct.numel())\n",
    "    return accuracy"
   ]
  },
  {
   "cell_type": "code",
   "execution_count": 19,
   "id": "73a439b2",
   "metadata": {},
   "outputs": [],
   "source": [
    "def mIoU(pred_mask, mask, smooth=1e-10, n_classes=2):\n",
    "    with torch.no_grad():\n",
    "        pred_mask = F.softmax(pred_mask, dim=1)\n",
    "        pred_mask = torch.argmax(pred_mask, dim=1)\n",
    "        pred_mask = pred_mask.contiguous().view(-1)\n",
    "        mask = mask.contiguous().view(-1)\n",
    "\n",
    "        iou_per_class = []\n",
    "        for clas in range(0, n_classes): #loop per pixel class\n",
    "            true_class = pred_mask == clas\n",
    "            true_label = mask == clas\n",
    "\n",
    "            if true_label.long().sum().item() == 0: #no exist label in this loop\n",
    "                iou_per_class.append(np.nan)\n",
    "            else:\n",
    "                intersect = torch.logical_and(true_class, true_label).sum().float().item()\n",
    "                union = torch.logical_or(true_class, true_label).sum().float().item()\n",
    "\n",
    "                iou = (intersect + smooth) / (union +smooth)\n",
    "                iou_per_class.append(iou)\n",
    "        return np.nanmean(iou_per_class)"
   ]
  },
  {
   "cell_type": "code",
   "execution_count": 20,
   "id": "9bcdcdf5",
   "metadata": {},
   "outputs": [],
   "source": [
    "def get_lr(optimizer):\n",
    "    for param_group in optimizer.param_groups:\n",
    "        return param_group['lr']"
   ]
  },
  {
   "cell_type": "code",
   "execution_count": 22,
   "id": "4c3286a9",
   "metadata": {},
   "outputs": [],
   "source": [
    "max_lr = 1e-3\n",
    "epoch = 20\n",
    "weight_decay = 1e-4"
   ]
  },
  {
   "cell_type": "code",
   "execution_count": 25,
   "id": "34f05ad5",
   "metadata": {},
   "outputs": [],
   "source": [
    "criterion = nn.CrossEntropyLoss()\n",
    "optimizer = torch.optim.AdamW(model.parameters(), lr=max_lr, weight_decay=weight_decay)\n",
    "scheduler = torch.optim.lr_scheduler.OneCycleLR(optimizer, max_lr, epochs=epoch,\n",
    "                                            steps_per_epoch=len(train_loader))"
   ]
  },
  {
   "cell_type": "code",
   "execution_count": 26,
   "id": "28b6ed47",
   "metadata": {},
   "outputs": [
    {
     "data": {
      "application/vnd.jupyter.widget-view+json": {
       "model_id": "285ebd4177d04b92890504bcdddabcba",
       "version_major": 2,
       "version_minor": 0
      },
      "text/plain": [
       "  0%|          | 0/983 [00:00<?, ?it/s]"
      ]
     },
     "metadata": {},
     "output_type": "display_data"
    },
    {
     "data": {
      "application/vnd.jupyter.widget-view+json": {
       "model_id": "52ac71fec1d44263971bb11170af1425",
       "version_major": 2,
       "version_minor": 0
      },
      "text/plain": [
       "  0%|          | 0/983 [00:00<?, ?it/s]"
      ]
     },
     "metadata": {},
     "output_type": "display_data"
    },
    {
     "name": "stdout",
     "output_type": "stream",
     "text": [
      "Loss Decreasing.. inf >> 0.087 \n",
      "Epoch:1/10.. Train Loss: 0.318.. Val Loss: 0.087.. Train mIoU:0.680.. Val mIoU: 0.720.. Train Acc:0.961.. Val Acc:0.992.. Time: 2.03m\n"
     ]
    },
    {
     "data": {
      "application/vnd.jupyter.widget-view+json": {
       "model_id": "47caa1932bf640c1bb1da3396977383f",
       "version_major": 2,
       "version_minor": 0
      },
      "text/plain": [
       "  0%|          | 0/983 [00:00<?, ?it/s]"
      ]
     },
     "metadata": {},
     "output_type": "display_data"
    },
    {
     "data": {
      "application/vnd.jupyter.widget-view+json": {
       "model_id": "c32dbb4640824d56839f97ec14b6136b",
       "version_major": 2,
       "version_minor": 0
      },
      "text/plain": [
       "  0%|          | 0/983 [00:00<?, ?it/s]"
      ]
     },
     "metadata": {},
     "output_type": "display_data"
    },
    {
     "name": "stdout",
     "output_type": "stream",
     "text": [
      "Loss Decreasing.. 0.087 >> 0.023 \n",
      "Epoch:2/10.. Train Loss: 0.033.. Val Loss: 0.023.. Train mIoU:0.738.. Val mIoU: 0.790.. Train Acc:0.993.. Val Acc:0.994.. Time: 2.04m\n"
     ]
    },
    {
     "data": {
      "application/vnd.jupyter.widget-view+json": {
       "model_id": "22aad44dbbbf4b65b91da5f367a55db6",
       "version_major": 2,
       "version_minor": 0
      },
      "text/plain": [
       "  0%|          | 0/983 [00:00<?, ?it/s]"
      ]
     },
     "metadata": {},
     "output_type": "display_data"
    },
    {
     "data": {
      "application/vnd.jupyter.widget-view+json": {
       "model_id": "70c1e2e7043842adb5d1fb511f126786",
       "version_major": 2,
       "version_minor": 0
      },
      "text/plain": [
       "  0%|          | 0/983 [00:00<?, ?it/s]"
      ]
     },
     "metadata": {},
     "output_type": "display_data"
    },
    {
     "name": "stdout",
     "output_type": "stream",
     "text": [
      "Loss Decreasing.. 0.023 >> 0.022 \n",
      "Epoch:3/10.. Train Loss: 0.021.. Val Loss: 0.022.. Train mIoU:0.758.. Val mIoU: 0.730.. Train Acc:0.994.. Val Acc:0.994.. Time: 2.05m\n"
     ]
    },
    {
     "data": {
      "application/vnd.jupyter.widget-view+json": {
       "model_id": "cfb8e2f19eb64587a45f7ddb7256927e",
       "version_major": 2,
       "version_minor": 0
      },
      "text/plain": [
       "  0%|          | 0/983 [00:00<?, ?it/s]"
      ]
     },
     "metadata": {},
     "output_type": "display_data"
    },
    {
     "data": {
      "application/vnd.jupyter.widget-view+json": {
       "model_id": "01016def59544485b192add313e47836",
       "version_major": 2,
       "version_minor": 0
      },
      "text/plain": [
       "  0%|          | 0/983 [00:00<?, ?it/s]"
      ]
     },
     "metadata": {},
     "output_type": "display_data"
    },
    {
     "name": "stdout",
     "output_type": "stream",
     "text": [
      "Loss Not Decrease for 1 time\n",
      "Epoch:4/10.. Train Loss: 0.019.. Val Loss: 0.038.. Train mIoU:0.768.. Val mIoU: 0.723.. Train Acc:0.994.. Val Acc:0.987.. Time: 2.02m\n"
     ]
    },
    {
     "data": {
      "application/vnd.jupyter.widget-view+json": {
       "model_id": "0a2c9cd4f7344acba0d18551828f38e1",
       "version_major": 2,
       "version_minor": 0
      },
      "text/plain": [
       "  0%|          | 0/983 [00:00<?, ?it/s]"
      ]
     },
     "metadata": {},
     "output_type": "display_data"
    },
    {
     "data": {
      "application/vnd.jupyter.widget-view+json": {
       "model_id": "c537a5661a7f471492272a2f6beedac1",
       "version_major": 2,
       "version_minor": 0
      },
      "text/plain": [
       "  0%|          | 0/983 [00:00<?, ?it/s]"
      ]
     },
     "metadata": {},
     "output_type": "display_data"
    },
    {
     "name": "stdout",
     "output_type": "stream",
     "text": [
      "Loss Decreasing.. 0.038 >> 0.014 \n",
      "saving model...\n",
      "Epoch:5/10.. Train Loss: 0.019.. Val Loss: 0.014.. Train mIoU:0.769.. Val mIoU: 0.783.. Train Acc:0.994.. Val Acc:0.995.. Time: 2.04m\n"
     ]
    },
    {
     "data": {
      "application/vnd.jupyter.widget-view+json": {
       "model_id": "f24da741ad1946ec92c3256ba4a2d9eb",
       "version_major": 2,
       "version_minor": 0
      },
      "text/plain": [
       "  0%|          | 0/983 [00:00<?, ?it/s]"
      ]
     },
     "metadata": {},
     "output_type": "display_data"
    },
    {
     "data": {
      "application/vnd.jupyter.widget-view+json": {
       "model_id": "673577645a2840c7a51ffc4e0e794c83",
       "version_major": 2,
       "version_minor": 0
      },
      "text/plain": [
       "  0%|          | 0/983 [00:00<?, ?it/s]"
      ]
     },
     "metadata": {},
     "output_type": "display_data"
    },
    {
     "name": "stdout",
     "output_type": "stream",
     "text": [
      "Loss Decreasing.. 0.014 >> 0.014 \n",
      "Epoch:6/10.. Train Loss: 0.017.. Val Loss: 0.014.. Train mIoU:0.783.. Val mIoU: 0.793.. Train Acc:0.994.. Val Acc:0.995.. Time: 2.05m\n"
     ]
    },
    {
     "data": {
      "application/vnd.jupyter.widget-view+json": {
       "model_id": "ea4b7d03681d4af3a63259c26afdb3fd",
       "version_major": 2,
       "version_minor": 0
      },
      "text/plain": [
       "  0%|          | 0/983 [00:00<?, ?it/s]"
      ]
     },
     "metadata": {},
     "output_type": "display_data"
    },
    {
     "data": {
      "application/vnd.jupyter.widget-view+json": {
       "model_id": "1f810cb6091b4ee5b7cb0591905fb451",
       "version_major": 2,
       "version_minor": 0
      },
      "text/plain": [
       "  0%|          | 0/983 [00:00<?, ?it/s]"
      ]
     },
     "metadata": {},
     "output_type": "display_data"
    },
    {
     "name": "stdout",
     "output_type": "stream",
     "text": [
      "Loss Not Decrease for 2 time\n",
      "Epoch:7/10.. Train Loss: 0.016.. Val Loss: 0.015.. Train mIoU:0.787.. Val mIoU: 0.775.. Train Acc:0.995.. Val Acc:0.995.. Time: 2.04m\n"
     ]
    },
    {
     "data": {
      "application/vnd.jupyter.widget-view+json": {
       "model_id": "06dc4f75190e40d2a553a4a49cabcb8d",
       "version_major": 2,
       "version_minor": 0
      },
      "text/plain": [
       "  0%|          | 0/983 [00:00<?, ?it/s]"
      ]
     },
     "metadata": {},
     "output_type": "display_data"
    },
    {
     "data": {
      "application/vnd.jupyter.widget-view+json": {
       "model_id": "928324ebebbd41778e1b795ba54b3206",
       "version_major": 2,
       "version_minor": 0
      },
      "text/plain": [
       "  0%|          | 0/983 [00:00<?, ?it/s]"
      ]
     },
     "metadata": {},
     "output_type": "display_data"
    },
    {
     "name": "stdout",
     "output_type": "stream",
     "text": [
      "Loss Decreasing.. 0.015 >> 0.013 \n",
      "Epoch:8/10.. Train Loss: 0.014.. Val Loss: 0.013.. Train mIoU:0.803.. Val mIoU: 0.796.. Train Acc:0.995.. Val Acc:0.996.. Time: 2.03m\n"
     ]
    },
    {
     "data": {
      "application/vnd.jupyter.widget-view+json": {
       "model_id": "1e68461c927548f08723a0210e1e94c0",
       "version_major": 2,
       "version_minor": 0
      },
      "text/plain": [
       "  0%|          | 0/983 [00:00<?, ?it/s]"
      ]
     },
     "metadata": {},
     "output_type": "display_data"
    },
    {
     "data": {
      "application/vnd.jupyter.widget-view+json": {
       "model_id": "b28a7971169d4307bfc0bfe3d32cdbbe",
       "version_major": 2,
       "version_minor": 0
      },
      "text/plain": [
       "  0%|          | 0/983 [00:00<?, ?it/s]"
      ]
     },
     "metadata": {},
     "output_type": "display_data"
    },
    {
     "name": "stdout",
     "output_type": "stream",
     "text": [
      "Loss Decreasing.. 0.013 >> 0.012 \n",
      "Epoch:9/10.. Train Loss: 0.013.. Val Loss: 0.012.. Train mIoU:0.811.. Val mIoU: 0.797.. Train Acc:0.995.. Val Acc:0.996.. Time: 2.05m\n"
     ]
    },
    {
     "data": {
      "application/vnd.jupyter.widget-view+json": {
       "model_id": "eff74e48a9d64e138a1c516253b1b08c",
       "version_major": 2,
       "version_minor": 0
      },
      "text/plain": [
       "  0%|          | 0/983 [00:00<?, ?it/s]"
      ]
     },
     "metadata": {},
     "output_type": "display_data"
    },
    {
     "data": {
      "application/vnd.jupyter.widget-view+json": {
       "model_id": "9441ccfddb63426ca05598303c0c66a2",
       "version_major": 2,
       "version_minor": 0
      },
      "text/plain": [
       "  0%|          | 0/983 [00:00<?, ?it/s]"
      ]
     },
     "metadata": {},
     "output_type": "display_data"
    },
    {
     "name": "stdout",
     "output_type": "stream",
     "text": [
      "Loss Decreasing.. 0.012 >> 0.010 \n",
      "Epoch:10/10.. Train Loss: 0.011.. Val Loss: 0.010.. Train mIoU:0.827.. Val mIoU: 0.825.. Train Acc:0.996.. Val Acc:0.996.. Time: 2.05m\n",
      "Total time: 20.42 m\n"
     ]
    },
    {
     "ename": "SyntaxError",
     "evalue": "'return' outside function (1983146152.py, line 108)",
     "output_type": "error",
     "traceback": [
      "\u001b[1;36m  Input \u001b[1;32mIn [26]\u001b[1;36m\u001b[0m\n\u001b[1;33m    return history\u001b[0m\n\u001b[1;37m    ^\u001b[0m\n\u001b[1;31mSyntaxError\u001b[0m\u001b[1;31m:\u001b[0m 'return' outside function\n"
     ]
    }
   ],
   "source": [
    "torch.cuda.empty_cache()\n",
    "train_losses = []\n",
    "test_losses = []\n",
    "val_iou = []; val_acc = []\n",
    "train_iou = []; train_acc = []\n",
    "lrs = []\n",
    "min_loss = np.inf\n",
    "decrease = 1 ; not_improve=0\n",
    "\n",
    "model.to(device)\n",
    "fit_time = time.time()\n",
    "\n",
    "for e in range(epochs):\n",
    "    since = time.time()\n",
    "    running_loss = 0\n",
    "    iou_score = 0\n",
    "    accuracy = 0\n",
    "    \n",
    "    #training loop\n",
    "    model.train()\n",
    "    for i, data in enumerate(tqdm(train_loader)):\n",
    "        #training phase\n",
    "        image_tiles, mask_tiles = data\n",
    "        \n",
    "        image = image_tiles.to(device); mask = mask_tiles.to(device);\n",
    "        #forward\n",
    "        output = model(image)\n",
    "        loss = criterion(output, mask)\n",
    "        #evaluation metrics\n",
    "        iou_score += mIoU(output, mask)\n",
    "        accuracy += pixel_accuracy(output, mask)\n",
    "        #backward\n",
    "        loss.backward()\n",
    "        optimizer.step() #update weight          \n",
    "        optimizer.zero_grad() #reset gradient\n",
    "\n",
    "        #step the learning rate\n",
    "        lrs.append(get_lr(optimizer))\n",
    "        scheduler.step() \n",
    "\n",
    "        running_loss += loss.item()\n",
    "    \n",
    "    else:\n",
    "        model.eval()\n",
    "        test_loss = 0\n",
    "        test_accuracy = 0\n",
    "        val_iou_score = 0\n",
    "        \n",
    "        #validation loop\n",
    "        with torch.no_grad():\n",
    "            for i, data in enumerate(tqdm(val_loader)):\n",
    "                #reshape to 9 patches from single image, delete batch size\n",
    "                image_tiles, mask_tiles = data\n",
    "\n",
    "                image = image_tiles.to(device); mask = mask_tiles.to(device);\n",
    "                output = model(image)\n",
    "                #evaluation metrics\n",
    "                val_iou_score +=  mIoU(output, mask)\n",
    "                test_accuracy += pixel_accuracy(output, mask)\n",
    "                #loss\n",
    "                loss = criterion(output, mask)                                  \n",
    "                test_loss += loss.item()\n",
    "\n",
    "        #calculatio mean for each batch\n",
    "        train_losses.append(running_loss/len(train_loader))\n",
    "        test_losses.append(test_loss/len(val_loader))\n",
    "        \n",
    "        if min_loss > (test_loss/len(val_loader)):\n",
    "                print('Loss Decreasing.. {:.3f} >> {:.3f} '.format(min_loss, (test_loss/len(val_loader))))\n",
    "                min_loss = (test_loss/len(val_loader))\n",
    "                decrease += 1\n",
    "                if decrease % 5 == 0:\n",
    "                    print('saving model...')\n",
    "                    torch.save(model, 'Unet-Mobilenet_v2_mIoU-{:.3f}.pt'.format(val_iou_score/len(val_loader)))\n",
    "                    \n",
    "\n",
    "        if (test_loss/len(val_loader)) > min_loss:\n",
    "            not_improve += 1\n",
    "            min_loss = (test_loss/len(val_loader))\n",
    "            print(f'Loss Not Decrease for {not_improve} time')\n",
    "            if not_improve == 7:\n",
    "                print('Loss not decrease for 7 times, Stop Training')\n",
    "                break\n",
    "        \n",
    "        #iou\n",
    "        val_iou.append(val_iou_score/len(val_loader))\n",
    "        train_iou.append(iou_score/len(train_loader))\n",
    "        train_acc.append(accuracy/len(train_loader))\n",
    "        val_acc.append(test_accuracy/ len(val_loader))\n",
    "        print(\"Epoch:{}/{}..\".format(e+1, epochs),\n",
    "              \"Train Loss: {:.3f}..\".format(running_loss/len(train_loader)),\n",
    "              \"Val Loss: {:.3f}..\".format(test_loss/len(val_loader)),\n",
    "              \"Train mIoU:{:.3f}..\".format(iou_score/len(train_loader)),\n",
    "              \"Val mIoU: {:.3f}..\".format(val_iou_score/len(val_loader)),\n",
    "              \"Train Acc:{:.3f}..\".format(accuracy/len(train_loader)),\n",
    "              \"Val Acc:{:.3f}..\".format(test_accuracy/len(val_loader)),\n",
    "              \"Time: {:.2f}m\".format((time.time()-since)/60))\n"
   ]
  },
  {
   "cell_type": "code",
   "execution_count": 28,
   "id": "1d034e84",
   "metadata": {},
   "outputs": [
    {
     "name": "stdout",
     "output_type": "stream",
     "text": [
      "Total time: 22.46 m\n"
     ]
    }
   ],
   "source": [
    "history = {'train_loss' : train_losses, 'val_loss': test_losses,\n",
    "           'train_miou' :train_iou, 'val_miou':val_iou,\n",
    "           'train_acc' :train_acc, 'val_acc':val_acc,\n",
    "           'lrs': lrs}\n",
    "\n",
    "print('Total time: {:.2f} m' .format((time.time()- fit_time)/60))"
   ]
  },
  {
   "cell_type": "code",
   "execution_count": 29,
   "id": "cd8a415e",
   "metadata": {},
   "outputs": [],
   "source": [
    "torch.save(model, 'Unet-Mobilenet.pt')"
   ]
  },
  {
   "cell_type": "code",
   "execution_count": 30,
   "id": "eae8844e",
   "metadata": {},
   "outputs": [],
   "source": [
    "def plot_loss(history):\n",
    "    plt.plot(history['val_loss'], label='val', marker='o')\n",
    "    plt.plot( history['train_loss'], label='train', marker='o')\n",
    "    plt.title('Loss per epoch'); plt.ylabel('loss');\n",
    "    plt.xlabel('epoch')\n",
    "    plt.legend(), plt.grid()\n",
    "    plt.show()\n",
    "    \n",
    "def plot_score(history):\n",
    "    plt.plot(history['train_miou'], label='train_mIoU', marker='*')\n",
    "    plt.plot(history['val_miou'], label='val_mIoU',  marker='*')\n",
    "    plt.title('Score per epoch'); plt.ylabel('mean IoU')\n",
    "    plt.xlabel('epoch')\n",
    "    plt.legend(), plt.grid()\n",
    "    plt.show()\n",
    "    \n",
    "def plot_acc(history):\n",
    "    plt.plot(history['train_acc'], label='train_accuracy', marker='*')\n",
    "    plt.plot(history['val_acc'], label='val_accuracy',  marker='*')\n",
    "    plt.title('Accuracy per epoch'); plt.ylabel('Accuracy')\n",
    "    plt.xlabel('epoch')\n",
    "    plt.legend(), plt.grid()\n",
    "    plt.show()"
   ]
  },
  {
   "cell_type": "code",
   "execution_count": 31,
   "id": "19c54dc9",
   "metadata": {
    "scrolled": true
   },
   "outputs": [
    {
     "data": {
      "image/png": "[encoded data removed]",
      "text/plain": [
       "<Figure size 432x288 with 1 Axes>"
      ]
     },
     "metadata": {
      "needs_background": "light"
     },
     "output_type": "display_data"
    },
    {
     "data": {
      "image/png": "[encoded data removed]",
      "text/plain": [
       "<Figure size 432x288 with 1 Axes>"
      ]
     },
     "metadata": {
      "needs_background": "light"
     },
     "output_type": "display_data"
    },
    {
     "data": {
      "image/png": "[encoded data removed]",
      "text/plain": [
       "<Figure size 432x288 with 1 Axes>"
      ]
     },
     "metadata": {
      "needs_background": "light"
     },
     "output_type": "display_data"
    }
   ],
   "source": [
    "plot_loss(history)\n",
    "plot_score(history)\n",
    "plot_acc(history)"
   ]
  },
  {
   "cell_type": "code",
   "execution_count": null,
   "id": "1a99a404",
   "metadata": {},
   "outputs": [],
   "source": []
  },
  {
   "cell_type": "code",
   "execution_count": null,
   "id": "b7888d8e",
   "metadata": {},
   "outputs": [],
   "source": []
  },
  {
   "cell_type": "code",
   "execution_count": null,
   "id": "66f03f9d",
   "metadata": {},
   "outputs": [],
   "source": []
  },
  {
   "cell_type": "code",
   "execution_count": null,
   "id": "d0e803a9",
   "metadata": {},
   "outputs": [],
   "source": []
  },
  {
   "cell_type": "code",
   "execution_count": null,
   "id": "5c0eb858",
   "metadata": {},
   "outputs": [],
   "source": []
  }
 ],
 "metadata": {
  "kernelspec": {
   "display_name": "Python 3 (ipykernel)",
   "language": "python",
   "name": "python3"
  },
  "language_info": {
   "codemirror_mode": {
    "name": "ipython",
    "version": 3
   },
   "file_extension": ".py",
   "mimetype": "text/x-python",
   "name": "python",
   "nbconvert_exporter": "python",
   "pygments_lexer": "ipython3",
   "version": "3.9.12"
  }
 },
 "nbformat": 4,
 "nbformat_minor": 5
}
